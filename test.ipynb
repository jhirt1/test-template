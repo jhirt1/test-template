{
 "cells": [
  {
   "cell_type": "code",
   "execution_count": 1,
   "metadata": {},
   "outputs": [],
   "source": [
    "from  azure.storage.blob  import  BlobServiceClient, BlobClient, ContainerClient\n",
    "import pickle"
   ]
  },
  {
   "cell_type": "code",
   "execution_count": 4,
   "metadata": {},
   "outputs": [],
   "source": [
    "def get_weights_blob(blob_name):\n",
    "    connection_string = \"DefaultEndpointsProtocol=https;AccountName=busadm742;AccountKey=c+P3idmYNO2f0qLHKzO6O4mTDOeztMCPOr2klmWkffQ+nSgP9CmF76uDG3LXxBup2f+F6pjZmMCv+AStxvGMFw==;EndpointSuffix=core.windows.net\"\n",
    "    blob_client = BlobClient.from_connection_string(connection_string, 'models', blob_name)\n",
    "    downloader = blob_client.download_blob(0)\n",
    "\n",
    "    # Load to pickle\n",
    "    b = downloader.readall()\n",
    "    weights = pickle.loads(b)\n",
    "\n",
    "    return weights"
   ]
  },
  {
   "cell_type": "code",
   "execution_count": 5,
   "metadata": {},
   "outputs": [
    {
     "name": "stderr",
     "output_type": "stream",
     "text": [
      "c:\\Users\\JulianaLisser\\AppData\\Local\\Programs\\Python\\Python311\\Lib\\site-packages\\sklearn\\base.py:318: UserWarning: Trying to unpickle estimator DecisionTreeClassifier from version 1.1.1 when using version 1.2.2. This might lead to breaking code or invalid results. Use at your own risk. For more info please refer to:\n",
      "https://scikit-learn.org/stable/model_persistence.html#security-maintainability-limitations\n",
      "  warnings.warn(\n"
     ]
    }
   ],
   "source": [
    "weights = get_weights_blob(blob_name = 'model_rec.pkl')"
   ]
  }
 ],
 "metadata": {
  "kernelspec": {
   "display_name": "Python 3",
   "language": "python",
   "name": "python3"
  },
  "language_info": {
   "codemirror_mode": {
    "name": "ipython",
    "version": 3
   },
   "file_extension": ".py",
   "mimetype": "text/x-python",
   "name": "python",
   "nbconvert_exporter": "python",
   "pygments_lexer": "ipython3",
   "version": "3.11.2"
  }
 },
 "nbformat": 4,
 "nbformat_minor": 2
}
